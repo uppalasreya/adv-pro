{
  "nbformat": 4,
  "nbformat_minor": 0,
  "metadata": {
    "colab": {
      "name": "Assignment",
      "provenance": [],
      "collapsed_sections": [],
      "authorship_tag": "ABX9TyM8DdbzMX6YDwAzKdeiq1th",
      "include_colab_link": true
    },
    "kernelspec": {
      "name": "python3",
      "display_name": "Python 3"
    }
  },
  "cells": [
    {
      "cell_type": "markdown",
      "metadata": {
        "id": "view-in-github",
        "colab_type": "text"
      },
      "source": [
        "<a href=\"https://colab.research.google.com/github/uppalasreya/adv-pro/blob/master/Assignment1.ipynb\" target=\"_parent\"><img src=\"https://colab.research.google.com/assets/colab-badge.svg\" alt=\"Open In Colab\"/></a>"
      ]
    },
    {
      "cell_type": "code",
      "metadata": {
        "id": "ofG-vCtiHqgv",
        "colab_type": "code",
        "outputId": "91f12331-28a3-40bb-82a4-a3a9f3363bba",
        "colab": {
          "base_uri": "https://localhost:8080/",
          "height": 119
        }
      },
      "source": [
        "n=int(input(\"enter the number of rows\"))\n",
        "for i in range(1,n+1):\n",
        "  for j in range(1,i+1):\n",
        "    print(\"*\",end=\" \")\n",
        "  print()\n"
      ],
      "execution_count": 0,
      "outputs": [
        {
          "output_type": "stream",
          "text": [
            "enter the number of rows5\n",
            "* \n",
            "* * \n",
            "* * * \n",
            "* * * * \n",
            "* * * * * \n"
          ],
          "name": "stdout"
        }
      ]
    },
    {
      "cell_type": "code",
      "metadata": {
        "id": "pizHs_T3LodP",
        "colab_type": "code",
        "outputId": "b7d0e7d1-d935-4bab-f356-bd8b0e516b13",
        "colab": {
          "base_uri": "https://localhost:8080/",
          "height": 204
        }
      },
      "source": [
        "n=int(input(\"enter the number\"))\n",
        "for i in range(1,11):\n",
        "  print(n,\"*\",i,\"=\",n*i)"
      ],
      "execution_count": 0,
      "outputs": [
        {
          "output_type": "stream",
          "text": [
            "enter the number5\n",
            "5 * 1 = 5\n",
            "5 * 2 = 10\n",
            "5 * 3 = 15\n",
            "5 * 4 = 20\n",
            "5 * 5 = 25\n",
            "5 * 6 = 30\n",
            "5 * 7 = 35\n",
            "5 * 8 = 40\n",
            "5 * 9 = 45\n",
            "5 * 10 = 50\n"
          ],
          "name": "stdout"
        }
      ]
    },
    {
      "cell_type": "code",
      "metadata": {
        "id": "lJDlJzuIMO7S",
        "colab_type": "code",
        "outputId": "3f2445ea-359c-47ba-e2b5-d11f210f3473",
        "colab": {
          "base_uri": "https://localhost:8080/",
          "height": 85
        }
      },
      "source": [
        "import cmath\n",
        "a=float(input(\"enter the number\"))\n",
        "b=float(input(\"enter the number\"))\n",
        "c=float(input(\"enter the number\"))\n",
        "d=(b ** 2) - (4*a*c)\n",
        "if(d>0):\n",
        "  root1=(-b+cmath.sqrt(d))/(2*a)\n",
        "  root2=(-b-cmath.sqrt(d))/(2*a)\n",
        "  print(\"roots are real and unequal:\",root1, \"and:\",root2)\n",
        "elif(d==0):\n",
        "  root1=-b/(2*a)\n",
        "  print(\"roots are real and equal:\",root1)\n",
        "else:\n",
        "  print(\"no real roots are there\")"
      ],
      "execution_count": 0,
      "outputs": [
        {
          "output_type": "stream",
          "text": [
            "enter the number2\n",
            "enter the number3\n",
            "enter the number4\n",
            "no real roots are there\n"
          ],
          "name": "stdout"
        }
      ]
    },
    {
      "cell_type": "code",
      "metadata": {
        "id": "c0xi--69QsL5",
        "colab_type": "code",
        "outputId": "b5e87654-5076-4184-f630-10448a7f22e7",
        "colab": {
          "base_uri": "https://localhost:8080/",
          "height": 85
        }
      },
      "source": [
        "import cmath\n",
        "a=float(input(\"enter the number\"))\n",
        "b=float(input(\"enter the number\"))\n",
        "c=float(input(\"enter the number\"))\n",
        "d=(b ** 2) - (4*a*c)\n",
        "if(d>0):\n",
        "  root1=(-b+cmath.sqrt(d))/(2*a)\n",
        "  root2=(-b-cmath.sqrt(d))/(2*a)\n",
        "  print(\"roots are real and unequal:\",root1, \"and:\",root2)\n",
        "elif(d==0):\n",
        "  root1=-b/(2*a)\n",
        "  print(\"roots are real and equal:\",root1)\n",
        "else:\n",
        "  print(\"no real roots are there\")"
      ],
      "execution_count": 0,
      "outputs": [
        {
          "output_type": "stream",
          "text": [
            "enter the number4\n",
            "enter the number8\n",
            "enter the number2\n",
            "roots are real and unequal: (-0.2928932188134524+0j) and: (-1.7071067811865475+0j)\n"
          ],
          "name": "stdout"
        }
      ]
    },
    {
      "cell_type": "code",
      "metadata": {
        "id": "IHcE7kqXYWwm",
        "colab_type": "code",
        "outputId": "272c1be9-3456-40ea-ba42-65946ce7952f",
        "colab": {
          "base_uri": "https://localhost:8080/",
          "height": 187
        }
      },
      "source": [
        "def fib(n):\n",
        "  a=0\n",
        "  b=1\n",
        "  print(a)\n",
        "  print(b)\n",
        "  for i in range(2,n):\n",
        "    c=a+b\n",
        "    a=b\n",
        "    b=c\n",
        "    print(c)\n",
        "fib(10)"
      ],
      "execution_count": 0,
      "outputs": [
        {
          "output_type": "stream",
          "text": [
            "0\n",
            "1\n",
            "1\n",
            "2\n",
            "3\n",
            "5\n",
            "8\n",
            "13\n",
            "21\n",
            "34\n"
          ],
          "name": "stdout"
        }
      ]
    }
  ]
}