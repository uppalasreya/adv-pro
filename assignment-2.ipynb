{
 "cells": [
  {
   "cell_type": "code",
   "execution_count": 1,
   "metadata": {},
   "outputs": [
    {
     "name": "stdout",
     "output_type": "stream",
     "text": [
      "enter a string raghs##@@\n",
      "1 4 4\n"
     ]
    }
   ],
   "source": [
    "# 1.Accept a string from the user and count no.of vowels,consonants and special characters\n",
    "s = input(\"enter a string \")\n",
    "c=0\n",
    "v=0\n",
    "sp=0\n",
    "s = s.lower()\n",
    "for  i in range(0,len(s)):\n",
    "    if s[i] in ('a','e','i','o','u'):\n",
    "        v+=1\n",
    "    elif s[i]>='a' and s[i] <='z' :\n",
    "        c+=1\n",
    "    else :\n",
    "        sp+=1\n",
    "print(v,c,sp)"
   ]
  },
  {
   "cell_type": "code",
   "execution_count": 2,
   "metadata": {},
   "outputs": [
    {
     "data": {
      "text/plain": [
       "2"
      ]
     },
     "execution_count": 2,
     "metadata": {},
     "output_type": "execute_result"
    }
   ],
   "source": [
    "## Question 2:count the no.of pairs of a in the given string(Infosys InfyTQ)\n",
    "s=\"abbaaccbbaaa\"\n",
    "s.count(\"aa\")\n"
   ]
  },
  {
   "cell_type": "code",
   "execution_count": 5,
   "metadata": {},
   "outputs": [
    {
     "data": {
      "text/plain": [
       "'C:\\\\Users\\\\Raghavendra\\\\Downloads\\\\summer internship\\\\AI and ML'"
      ]
     },
     "execution_count": 5,
     "metadata": {},
     "output_type": "execute_result"
    }
   ],
   "source": [
    "pwd\n"
   ]
  },
  {
   "cell_type": "code",
   "execution_count": null,
   "metadata": {},
   "outputs": [],
   "source": [
    " ## 3.string →  \"((((()()()))))()\"\n",
    "\n",
    "s = input(\"enter str: \")\n",
    "l,r = 0,0\n",
    "for i in range(0,len(s)):\n",
    "    if s[i] in ('('):\n",
    "        l+=1\n",
    "    else :\n",
    "        r+=1\n",
    "if l==r :\n",
    "    print(l)"
   ]
  },
  {
   "cell_type": "code",
   "execution_count": 3,
   "metadata": {},
   "outputs": [
    {
     "name": "stdout",
     "output_type": "stream",
     "text": [
      "enter low: 1\n",
      "enter high: 100\n",
      "18\n"
     ]
    }
   ],
   "source": [
    "# 4.count no of palindromes in given limits\n",
    "l = int(input(\"enter low: \"))\n",
    "h = int(input(\"enter high: \"))\n",
    "c = 0\n",
    "for i in range(l,h+1):\n",
    "    if str(i) == str(i)[::-1]:\n",
    "        c+=1\n",
    "print(c)"
   ]
  },
  {
   "cell_type": "code",
   "execution_count": 4,
   "metadata": {},
   "outputs": [
    {
     "name": "stdout",
     "output_type": "stream",
     "text": [
      "enter a number127\n",
      "848\n"
     ]
    }
   ],
   "source": [
    "# 5. Accept a number as an input and check whether the given number is palindrome or not\n",
    "# if it is a palindrome number print the number on the screen\n",
    "# if it is not a palindrome number reverse that number and add it to previous number repeat this until will get a palindrome number and print that palindrome number on the screen\n",
    " \n",
    "n=int(input(\"enter a number\"))\n",
    "r=0\n",
    "rev=0\n",
    "s=0\n",
    "\n",
    "if(str(n)==str(n)[::-1]):\n",
    "    print(\"palindrome\")\n",
    "else:\n",
    "    rev=int(str(n)[::-1])\n",
    "    s = n+rev\n",
    "    print(s)"
   ]
  },
  {
   "cell_type": "code",
   "execution_count": 2,
   "metadata": {},
   "outputs": [
    {
     "name": "stdout",
     "output_type": "stream",
     "text": [
      "enter string: orange\n",
      "puboif"
     ]
    }
   ],
   "source": [
    "## QUESTION 6\n",
    "s = input(\"enter string: \")\n",
    "s = s.lower()\n",
    "for  i in range(0,len(s)):\n",
    "    if s[i] in ('a','e','i','o','u','n'):\n",
    "        print(chr(ord(s[i])+1),end=\"\")\n",
    "    elif s[i] in ('g'):\n",
    "        print(chr(ord(s[i])+2),end=\"\")\n",
    "    else :\n",
    "        print(chr(ord(s[i])+3),end=\"\")"
   ]
  },
  {
   "cell_type": "code",
   "execution_count": 3,
   "metadata": {},
   "outputs": [
    {
     "name": "stdout",
     "output_type": "stream",
     "text": [
      "enter a string: Appli123cation456 \n",
      "21\n"
     ]
    }
   ],
   "source": [
    "# 7.Accept input as a string and display sum of digits as the output \n",
    "s = input(\"enter a string: \")\n",
    "sum = 0\n",
    "for i in range(0,len(s)):\n",
    "    if (s[i]>='1' and s[i]<='9') :\n",
    "        sum += int(s[i])\n",
    "print(sum)"
   ]
  },
  {
   "cell_type": "code",
   "execution_count": 1,
   "metadata": {},
   "outputs": [
    {
     "name": "stdout",
     "output_type": "stream",
     "text": [
      "enter score: 0.85\n",
      "B\n"
     ]
    }
   ],
   "source": [
    "# 8.Write a program to prompt for a score between 0.0 and 1.0. If the score is out of range, print an error. If the score is between 0.0 and 1.0, print a grade using the following table:\n",
    "# Score Grade\n",
    "# >= 0.9 A   >= 0.8 B   >= 0.7 C    >= 0.6 D    < 0.6 F\n",
    "s = float(input(\"enter score: \"))\n",
    "if(s >= 0.9 ) :\n",
    "    print(\"A\")\n",
    "elif(s >= 0.8):\n",
    "    print(\"B\")\n",
    "elif(s >= 0.7):\n",
    "    print(\"C\")\n",
    "elif(s >= 0.6):\n",
    "    print(\"D\")\n",
    "elif(s < 0.6):\n",
    "    print(\"F\")\n",
    "else :\n",
    "    print(\"invalid\")"
   ]
  },
  {
   "cell_type": "code",
   "execution_count": 2,
   "metadata": {},
   "outputs": [
    {
     "name": "stdout",
     "output_type": "stream",
     "text": [
      "fizzbuzz\n",
      "1\n",
      "2\n",
      "fizz\n",
      "4\n",
      "buzz\n",
      "fizz\n",
      "7\n",
      "8\n",
      "fizz\n",
      "buzz\n",
      "11\n",
      "fizz\n",
      "13\n",
      "14\n",
      "fizzbuzz\n",
      "16\n",
      "17\n",
      "fizz\n",
      "19\n",
      "buzz\n",
      "fizz\n",
      "22\n",
      "23\n",
      "fizz\n",
      "buzz\n",
      "26\n",
      "fizz\n",
      "28\n",
      "29\n",
      "fizzbuzz\n",
      "31\n",
      "32\n",
      "fizz\n",
      "34\n",
      "buzz\n",
      "fizz\n",
      "37\n",
      "38\n",
      "fizz\n",
      "buzz\n",
      "41\n",
      "fizz\n",
      "43\n",
      "44\n",
      "fizzbuzz\n",
      "46\n",
      "47\n",
      "fizz\n",
      "49\n",
      "buzz\n"
     ]
    }
   ],
   "source": [
    "\n",
    "## Question 9:Write a Python program which iterates the integers from 1 to 50. For multiples of three print \"Fizz\" instead of the number and for the multiples of five print \"Buzz\". For numbers which are multiples of both three and five print \"FizzBuzz\".\n",
    "for i in range(51):\n",
    "    if i % 3 == 0 and i % 5 == 0:\n",
    "        \n",
    "        print(\"fizzbuzz\")\n",
    "        continue\n",
    "    elif i % 3 == 0:\n",
    "        \n",
    "        print(\"fizz\")\n",
    "        continue\n",
    "    elif i % 5 == 0:\n",
    "        \n",
    "        print(\"buzz\")\n",
    "        continue\n",
    "    print(i)\n",
    "\t"
   ]
  },
  {
   "cell_type": "code",
   "execution_count": 7,
   "metadata": {},
   "outputs": [
    {
     "name": "stdout",
     "output_type": "stream",
     "text": [
      "Input first number: 26\n",
      "Input second number: 15\n",
      "Input third number: 29\n",
      "The median is 26.0\n"
     ]
    }
   ],
   "source": [
    "## 10.Write a Python program to find the median of three values\n",
    "a = float(input(\"Input first number: \"))\n",
    "b = float(input(\"Input second number: \"))\n",
    "c = float(input(\"Input third number: \"))\n",
    "if a > b:\n",
    "    if a < c:\n",
    "        median = a\n",
    "    elif b > c:\n",
    "        median = b\n",
    "    else:\n",
    "        median = c\n",
    "else:\n",
    "    if a > c:\n",
    "        median = a\n",
    "    elif b < c:\n",
    "        median = b\n",
    "    else:\n",
    "        median = c\n",
    "\n",
    "print(\"The median is\", median)"
   ]
  },
  {
   "cell_type": "code",
   "execution_count": null,
   "metadata": {},
   "outputs": [],
   "source": []
  }
 ],
 "metadata": {
  "kernelspec": {
   "display_name": "Python 3",
   "language": "python",
   "name": "python3"
  },
  "language_info": {
   "codemirror_mode": {
    "name": "ipython",
    "version": 3
   },
   "file_extension": ".py",
   "mimetype": "text/x-python",
   "name": "python",
   "nbconvert_exporter": "python",
   "pygments_lexer": "ipython3",
   "version": "3.7.6"
  }
 },
 "nbformat": 4,
 "nbformat_minor": 4
}
